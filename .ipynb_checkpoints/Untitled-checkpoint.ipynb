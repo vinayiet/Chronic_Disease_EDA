{
 "cells": [
  {
   "cell_type": "code",
   "execution_count": 1,
   "id": "1579a5c7-c983-42ac-9f36-9ff05fe3efab",
   "metadata": {},
   "outputs": [],
   "source": [
    "import pandas as pd\n",
    "import numpy as np \n",
    "import matplotlib.pyplot as plt\n",
    "import seaborn as sns\n",
    "import warnings\n"
   ]
  },
  {
   "cell_type": "code",
   "execution_count": 2,
   "id": "d4c96d8e-0fc5-4259-8c75-647784faef2b",
   "metadata": {},
   "outputs": [],
   "source": [
    "df = pd.read_csv('kidney_disease.csv')"
   ]
  },
  {
   "cell_type": "code",
   "execution_count": 5,
   "id": "9c456a04-fd90-49c6-83b5-ebd8b37155ed",
   "metadata": {},
   "outputs": [
    {
     "data": {
      "text/plain": [
       "Index(['id', 'age', 'bp', 'sg', 'al', 'su', 'rbc', 'pc', 'pcc', 'ba', 'bgr',\n",
       "       'bu', 'sc', 'sod', 'pot', 'hemo', 'pcv', 'wc', 'rc', 'htn', 'dm', 'cad',\n",
       "       'appet', 'pe', 'ane', 'classification'],\n",
       "      dtype='object')"
      ]
     },
     "execution_count": 5,
     "metadata": {},
     "output_type": "execute_result"
    }
   ],
   "source": [
    "df.columns"
   ]
  },
  {
   "cell_type": "code",
   "execution_count": 8,
   "id": "db08eee2-20b5-4c06-9821-b3743778b779",
   "metadata": {},
   "outputs": [],
   "source": [
    "df.columns = ['id', 'age', 'blood_pressure', 'specific_gravity', 'albumin', 'sugar', 'red_blood_cells', 'pus_cell',\n",
    "              'pus_cell_clumps', 'bacteria', 'blood_glucose_random', 'blood_urea', 'serum_creatinine', 'sodium',\n",
    "              'potassium', 'haemoglobin', 'packed_cell_volume', 'white_blood_cell_count', 'red_blood_cell_count',\n",
    "              'hypertension', 'diabetes_mellitus', 'coronary_artery_disease', 'appetite', 'peda_edema',\n",
    "              'anaemia', 'class']\n"
   ]
  },
  {
   "cell_type": "code",
   "execution_count": 9,
   "id": "f4da4b94-4bfd-430d-9649-8a084995ba80",
   "metadata": {},
   "outputs": [
    {
     "data": {
      "text/html": [
       "<div>\n",
       "<style scoped>\n",
       "    .dataframe tbody tr th:only-of-type {\n",
       "        vertical-align: middle;\n",
       "    }\n",
       "\n",
       "    .dataframe tbody tr th {\n",
       "        vertical-align: top;\n",
       "    }\n",
       "\n",
       "    .dataframe thead th {\n",
       "        text-align: right;\n",
       "    }\n",
       "</style>\n",
       "<table border=\"1\" class=\"dataframe\">\n",
       "  <thead>\n",
       "    <tr style=\"text-align: right;\">\n",
       "      <th></th>\n",
       "      <th>id</th>\n",
       "      <th>age</th>\n",
       "      <th>blood_pressure</th>\n",
       "      <th>specific_gravity</th>\n",
       "      <th>albumin</th>\n",
       "      <th>sugar</th>\n",
       "      <th>blood_glucose_random</th>\n",
       "      <th>blood_urea</th>\n",
       "      <th>serum_creatinine</th>\n",
       "      <th>sodium</th>\n",
       "      <th>potassium</th>\n",
       "      <th>haemoglobin</th>\n",
       "    </tr>\n",
       "  </thead>\n",
       "  <tbody>\n",
       "    <tr>\n",
       "      <th>count</th>\n",
       "      <td>400.000000</td>\n",
       "      <td>391.000000</td>\n",
       "      <td>388.000000</td>\n",
       "      <td>353.000000</td>\n",
       "      <td>354.000000</td>\n",
       "      <td>351.000000</td>\n",
       "      <td>356.000000</td>\n",
       "      <td>381.000000</td>\n",
       "      <td>383.000000</td>\n",
       "      <td>313.000000</td>\n",
       "      <td>312.000000</td>\n",
       "      <td>348.000000</td>\n",
       "    </tr>\n",
       "    <tr>\n",
       "      <th>mean</th>\n",
       "      <td>199.500000</td>\n",
       "      <td>51.483376</td>\n",
       "      <td>76.469072</td>\n",
       "      <td>1.017408</td>\n",
       "      <td>1.016949</td>\n",
       "      <td>0.450142</td>\n",
       "      <td>148.036517</td>\n",
       "      <td>57.425722</td>\n",
       "      <td>3.072454</td>\n",
       "      <td>137.528754</td>\n",
       "      <td>4.627244</td>\n",
       "      <td>12.526437</td>\n",
       "    </tr>\n",
       "    <tr>\n",
       "      <th>std</th>\n",
       "      <td>115.614301</td>\n",
       "      <td>17.169714</td>\n",
       "      <td>13.683637</td>\n",
       "      <td>0.005717</td>\n",
       "      <td>1.352679</td>\n",
       "      <td>1.099191</td>\n",
       "      <td>79.281714</td>\n",
       "      <td>50.503006</td>\n",
       "      <td>5.741126</td>\n",
       "      <td>10.408752</td>\n",
       "      <td>3.193904</td>\n",
       "      <td>2.912587</td>\n",
       "    </tr>\n",
       "    <tr>\n",
       "      <th>min</th>\n",
       "      <td>0.000000</td>\n",
       "      <td>2.000000</td>\n",
       "      <td>50.000000</td>\n",
       "      <td>1.005000</td>\n",
       "      <td>0.000000</td>\n",
       "      <td>0.000000</td>\n",
       "      <td>22.000000</td>\n",
       "      <td>1.500000</td>\n",
       "      <td>0.400000</td>\n",
       "      <td>4.500000</td>\n",
       "      <td>2.500000</td>\n",
       "      <td>3.100000</td>\n",
       "    </tr>\n",
       "    <tr>\n",
       "      <th>25%</th>\n",
       "      <td>99.750000</td>\n",
       "      <td>42.000000</td>\n",
       "      <td>70.000000</td>\n",
       "      <td>1.010000</td>\n",
       "      <td>0.000000</td>\n",
       "      <td>0.000000</td>\n",
       "      <td>99.000000</td>\n",
       "      <td>27.000000</td>\n",
       "      <td>0.900000</td>\n",
       "      <td>135.000000</td>\n",
       "      <td>3.800000</td>\n",
       "      <td>10.300000</td>\n",
       "    </tr>\n",
       "    <tr>\n",
       "      <th>50%</th>\n",
       "      <td>199.500000</td>\n",
       "      <td>55.000000</td>\n",
       "      <td>80.000000</td>\n",
       "      <td>1.020000</td>\n",
       "      <td>0.000000</td>\n",
       "      <td>0.000000</td>\n",
       "      <td>121.000000</td>\n",
       "      <td>42.000000</td>\n",
       "      <td>1.300000</td>\n",
       "      <td>138.000000</td>\n",
       "      <td>4.400000</td>\n",
       "      <td>12.650000</td>\n",
       "    </tr>\n",
       "    <tr>\n",
       "      <th>75%</th>\n",
       "      <td>299.250000</td>\n",
       "      <td>64.500000</td>\n",
       "      <td>80.000000</td>\n",
       "      <td>1.020000</td>\n",
       "      <td>2.000000</td>\n",
       "      <td>0.000000</td>\n",
       "      <td>163.000000</td>\n",
       "      <td>66.000000</td>\n",
       "      <td>2.800000</td>\n",
       "      <td>142.000000</td>\n",
       "      <td>4.900000</td>\n",
       "      <td>15.000000</td>\n",
       "    </tr>\n",
       "    <tr>\n",
       "      <th>max</th>\n",
       "      <td>399.000000</td>\n",
       "      <td>90.000000</td>\n",
       "      <td>180.000000</td>\n",
       "      <td>1.025000</td>\n",
       "      <td>5.000000</td>\n",
       "      <td>5.000000</td>\n",
       "      <td>490.000000</td>\n",
       "      <td>391.000000</td>\n",
       "      <td>76.000000</td>\n",
       "      <td>163.000000</td>\n",
       "      <td>47.000000</td>\n",
       "      <td>17.800000</td>\n",
       "    </tr>\n",
       "  </tbody>\n",
       "</table>\n",
       "</div>"
      ],
      "text/plain": [
       "               id         age  blood_pressure  specific_gravity     albumin  \\\n",
       "count  400.000000  391.000000      388.000000        353.000000  354.000000   \n",
       "mean   199.500000   51.483376       76.469072          1.017408    1.016949   \n",
       "std    115.614301   17.169714       13.683637          0.005717    1.352679   \n",
       "min      0.000000    2.000000       50.000000          1.005000    0.000000   \n",
       "25%     99.750000   42.000000       70.000000          1.010000    0.000000   \n",
       "50%    199.500000   55.000000       80.000000          1.020000    0.000000   \n",
       "75%    299.250000   64.500000       80.000000          1.020000    2.000000   \n",
       "max    399.000000   90.000000      180.000000          1.025000    5.000000   \n",
       "\n",
       "            sugar  blood_glucose_random  blood_urea  serum_creatinine  \\\n",
       "count  351.000000            356.000000  381.000000        383.000000   \n",
       "mean     0.450142            148.036517   57.425722          3.072454   \n",
       "std      1.099191             79.281714   50.503006          5.741126   \n",
       "min      0.000000             22.000000    1.500000          0.400000   \n",
       "25%      0.000000             99.000000   27.000000          0.900000   \n",
       "50%      0.000000            121.000000   42.000000          1.300000   \n",
       "75%      0.000000            163.000000   66.000000          2.800000   \n",
       "max      5.000000            490.000000  391.000000         76.000000   \n",
       "\n",
       "           sodium   potassium  haemoglobin  \n",
       "count  313.000000  312.000000   348.000000  \n",
       "mean   137.528754    4.627244    12.526437  \n",
       "std     10.408752    3.193904     2.912587  \n",
       "min      4.500000    2.500000     3.100000  \n",
       "25%    135.000000    3.800000    10.300000  \n",
       "50%    138.000000    4.400000    12.650000  \n",
       "75%    142.000000    4.900000    15.000000  \n",
       "max    163.000000   47.000000    17.800000  "
      ]
     },
     "execution_count": 9,
     "metadata": {},
     "output_type": "execute_result"
    }
   ],
   "source": [
    "df.describe()"
   ]
  },
  {
   "cell_type": "code",
   "execution_count": 10,
   "id": "c1d9bf4b-6778-4157-aa72-75e5db097844",
   "metadata": {},
   "outputs": [
    {
     "name": "stdout",
     "output_type": "stream",
     "text": [
      "<class 'pandas.core.frame.DataFrame'>\n",
      "RangeIndex: 400 entries, 0 to 399\n",
      "Data columns (total 26 columns):\n",
      " #   Column                   Non-Null Count  Dtype  \n",
      "---  ------                   --------------  -----  \n",
      " 0   id                       400 non-null    int64  \n",
      " 1   age                      391 non-null    float64\n",
      " 2   blood_pressure           388 non-null    float64\n",
      " 3   specific_gravity         353 non-null    float64\n",
      " 4   albumin                  354 non-null    float64\n",
      " 5   sugar                    351 non-null    float64\n",
      " 6   red_blood_cells          248 non-null    object \n",
      " 7   pus_cell                 335 non-null    object \n",
      " 8   pus_cell_clumps          396 non-null    object \n",
      " 9   bacteria                 396 non-null    object \n",
      " 10  blood_glucose_random     356 non-null    float64\n",
      " 11  blood_urea               381 non-null    float64\n",
      " 12  serum_creatinine         383 non-null    float64\n",
      " 13  sodium                   313 non-null    float64\n",
      " 14  potassium                312 non-null    float64\n",
      " 15  haemoglobin              348 non-null    float64\n",
      " 16  packed_cell_volume       330 non-null    object \n",
      " 17  white_blood_cell_count   295 non-null    object \n",
      " 18  red_blood_cell_count     270 non-null    object \n",
      " 19  hypertension             398 non-null    object \n",
      " 20  diabetes_mellitus        398 non-null    object \n",
      " 21  coronary_artery_disease  398 non-null    object \n",
      " 22  appetite                 399 non-null    object \n",
      " 23  peda_edema               399 non-null    object \n",
      " 24  anaemia                  399 non-null    object \n",
      " 25  class                    400 non-null    object \n",
      "dtypes: float64(11), int64(1), object(14)\n",
      "memory usage: 81.4+ KB\n"
     ]
    }
   ],
   "source": [
    "df.info()"
   ]
  },
  {
   "cell_type": "code",
   "execution_count": 13,
   "id": "e770ecff-6c17-4ad6-a168-dfe85d1ded55",
   "metadata": {},
   "outputs": [],
   "source": [
    "df['packed_cell_volume'] = pd.to_numeric(df['packed_cell_volume'], errors = 'coerce')"
   ]
  },
  {
   "cell_type": "code",
   "execution_count": 14,
   "id": "ea95530d-ea4e-4114-9b08-a106bd6ce3e7",
   "metadata": {},
   "outputs": [
    {
     "name": "stdout",
     "output_type": "stream",
     "text": [
      "<class 'pandas.core.frame.DataFrame'>\n",
      "RangeIndex: 400 entries, 0 to 399\n",
      "Data columns (total 26 columns):\n",
      " #   Column                   Non-Null Count  Dtype  \n",
      "---  ------                   --------------  -----  \n",
      " 0   id                       400 non-null    int64  \n",
      " 1   age                      391 non-null    float64\n",
      " 2   blood_pressure           388 non-null    float64\n",
      " 3   specific_gravity         353 non-null    float64\n",
      " 4   albumin                  354 non-null    float64\n",
      " 5   sugar                    351 non-null    float64\n",
      " 6   red_blood_cells          248 non-null    object \n",
      " 7   pus_cell                 335 non-null    object \n",
      " 8   pus_cell_clumps          396 non-null    object \n",
      " 9   bacteria                 396 non-null    object \n",
      " 10  blood_glucose_random     356 non-null    float64\n",
      " 11  blood_urea               381 non-null    float64\n",
      " 12  serum_creatinine         383 non-null    float64\n",
      " 13  sodium                   313 non-null    float64\n",
      " 14  potassium                312 non-null    float64\n",
      " 15  haemoglobin              348 non-null    float64\n",
      " 16  packed_cell_volume       329 non-null    float64\n",
      " 17  white_blood_cell_count   295 non-null    object \n",
      " 18  red_blood_cell_count     270 non-null    object \n",
      " 19  hypertension             398 non-null    object \n",
      " 20  diabetes_mellitus        398 non-null    object \n",
      " 21  coronary_artery_disease  398 non-null    object \n",
      " 22  appetite                 399 non-null    object \n",
      " 23  peda_edema               399 non-null    object \n",
      " 24  anaemia                  399 non-null    object \n",
      " 25  class                    400 non-null    object \n",
      "dtypes: float64(12), int64(1), object(13)\n",
      "memory usage: 81.4+ KB\n"
     ]
    }
   ],
   "source": [
    "df.info()"
   ]
  },
  {
   "cell_type": "code",
   "execution_count": 16,
   "id": "9188f5bf-b926-4b8f-ac88-0534aa9417f2",
   "metadata": {},
   "outputs": [],
   "source": [
    "df['white_blood_cell_count'] = pd.to_numeric(df['white_blood_cell_count'], errors = 'coerce')\n",
    "df['red_blood_cell_count'] = pd.to_numeric(df['red_blood_cell_count'], errors = 'coerce')\n"
   ]
  },
  {
   "cell_type": "code",
   "execution_count": 17,
   "id": "b825cd58-dc2b-441b-a0b6-bcb43a842540",
   "metadata": {},
   "outputs": [
    {
     "name": "stdout",
     "output_type": "stream",
     "text": [
      "<class 'pandas.core.frame.DataFrame'>\n",
      "RangeIndex: 400 entries, 0 to 399\n",
      "Data columns (total 26 columns):\n",
      " #   Column                   Non-Null Count  Dtype  \n",
      "---  ------                   --------------  -----  \n",
      " 0   id                       400 non-null    int64  \n",
      " 1   age                      391 non-null    float64\n",
      " 2   blood_pressure           388 non-null    float64\n",
      " 3   specific_gravity         353 non-null    float64\n",
      " 4   albumin                  354 non-null    float64\n",
      " 5   sugar                    351 non-null    float64\n",
      " 6   red_blood_cells          248 non-null    object \n",
      " 7   pus_cell                 335 non-null    object \n",
      " 8   pus_cell_clumps          396 non-null    object \n",
      " 9   bacteria                 396 non-null    object \n",
      " 10  blood_glucose_random     356 non-null    float64\n",
      " 11  blood_urea               381 non-null    float64\n",
      " 12  serum_creatinine         383 non-null    float64\n",
      " 13  sodium                   313 non-null    float64\n",
      " 14  potassium                312 non-null    float64\n",
      " 15  haemoglobin              348 non-null    float64\n",
      " 16  packed_cell_volume       329 non-null    float64\n",
      " 17  white_blood_cell_count   294 non-null    float64\n",
      " 18  red_blood_cell_count     269 non-null    float64\n",
      " 19  hypertension             398 non-null    object \n",
      " 20  diabetes_mellitus        398 non-null    object \n",
      " 21  coronary_artery_disease  398 non-null    object \n",
      " 22  appetite                 399 non-null    object \n",
      " 23  peda_edema               399 non-null    object \n",
      " 24  anaemia                  399 non-null    object \n",
      " 25  class                    400 non-null    object \n",
      "dtypes: float64(14), int64(1), object(11)\n",
      "memory usage: 81.4+ KB\n"
     ]
    }
   ],
   "source": [
    "df.info()"
   ]
  },
  {
   "cell_type": "code",
   "execution_count": 18,
   "id": "bf650abf-b022-4d58-8d67-657acbe64344",
   "metadata": {},
   "outputs": [
    {
     "data": {
      "text/plain": [
       "Index(['id', 'age', 'blood_pressure', 'specific_gravity', 'albumin', 'sugar',\n",
       "       'red_blood_cells', 'pus_cell', 'pus_cell_clumps', 'bacteria',\n",
       "       'blood_glucose_random', 'blood_urea', 'serum_creatinine', 'sodium',\n",
       "       'potassium', 'haemoglobin', 'packed_cell_volume',\n",
       "       'white_blood_cell_count', 'red_blood_cell_count', 'hypertension',\n",
       "       'diabetes_mellitus', 'coronary_artery_disease', 'appetite',\n",
       "       'peda_edema', 'anaemia', 'class'],\n",
       "      dtype='object')"
      ]
     },
     "execution_count": 18,
     "metadata": {},
     "output_type": "execute_result"
    }
   ],
   "source": [
    "df.columns"
   ]
  },
  {
   "cell_type": "code",
   "execution_count": 19,
   "id": "42f360eb-c21e-466d-a507-427cf143748f",
   "metadata": {},
   "outputs": [],
   "source": [
    "cat_cols = [col for col in df.columns if df[col].dtype == 'object']\n",
    "num_cols = [col for col in df.columns if df[col].dtype != 'object']"
   ]
  },
  {
   "cell_type": "code",
   "execution_count": 20,
   "id": "2d3e1db1-f068-4fe1-8dbc-53280974ec9b",
   "metadata": {},
   "outputs": [
    {
     "data": {
      "text/plain": [
       "['red_blood_cells',\n",
       " 'pus_cell',\n",
       " 'pus_cell_clumps',\n",
       " 'bacteria',\n",
       " 'hypertension',\n",
       " 'diabetes_mellitus',\n",
       " 'coronary_artery_disease',\n",
       " 'appetite',\n",
       " 'peda_edema',\n",
       " 'anaemia',\n",
       " 'class']"
      ]
     },
     "execution_count": 20,
     "metadata": {},
     "output_type": "execute_result"
    }
   ],
   "source": [
    "cat_cols"
   ]
  },
  {
   "cell_type": "code",
   "execution_count": 21,
   "id": "bee6f297-4272-431d-ac7a-be552249d5b9",
   "metadata": {},
   "outputs": [
    {
     "data": {
      "text/plain": [
       "['id',\n",
       " 'age',\n",
       " 'blood_pressure',\n",
       " 'specific_gravity',\n",
       " 'albumin',\n",
       " 'sugar',\n",
       " 'blood_glucose_random',\n",
       " 'blood_urea',\n",
       " 'serum_creatinine',\n",
       " 'sodium',\n",
       " 'potassium',\n",
       " 'haemoglobin',\n",
       " 'packed_cell_volume',\n",
       " 'white_blood_cell_count',\n",
       " 'red_blood_cell_count']"
      ]
     },
     "execution_count": 21,
     "metadata": {},
     "output_type": "execute_result"
    }
   ],
   "source": [
    "num_cols"
   ]
  },
  {
   "cell_type": "code",
   "execution_count": 23,
   "id": "5c3d845f-d1a5-43d3-a10b-2550d688babb",
   "metadata": {},
   "outputs": [
    {
     "name": "stdout",
     "output_type": "stream",
     "text": [
      "[nan 'normal' 'abnormal'] values\n",
      "\n",
      "['normal' 'abnormal' nan] values\n",
      "\n",
      "['notpresent' 'present' nan] values\n",
      "\n",
      "['notpresent' 'present' nan] values\n",
      "\n",
      "['yes' 'no' nan] values\n",
      "\n",
      "['yes' 'no' ' yes' '\\tno' '\\tyes' nan] values\n",
      "\n",
      "['no' 'yes' '\\tno' nan] values\n",
      "\n",
      "['good' 'poor' nan] values\n",
      "\n",
      "['no' 'yes' nan] values\n",
      "\n",
      "['no' 'yes' nan] values\n",
      "\n",
      "['ckd' 'ckd\\t' 'notckd'] values\n",
      "\n"
     ]
    }
   ],
   "source": [
    "for col in cat_cols:\n",
    "    print(f\"{df[col].unique()} values\\n\")"
   ]
  },
  {
   "cell_type": "code",
   "execution_count": 24,
   "id": "499b5144-1f46-40f0-a0de-2a86ab8c2ea4",
   "metadata": {},
   "outputs": [
    {
     "data": {
      "text/plain": [
       "Index(['id', 'age', 'blood_pressure', 'specific_gravity', 'albumin', 'sugar',\n",
       "       'red_blood_cells', 'pus_cell', 'pus_cell_clumps', 'bacteria',\n",
       "       'blood_glucose_random', 'blood_urea', 'serum_creatinine', 'sodium',\n",
       "       'potassium', 'haemoglobin', 'packed_cell_volume',\n",
       "       'white_blood_cell_count', 'red_blood_cell_count', 'hypertension',\n",
       "       'diabetes_mellitus', 'coronary_artery_disease', 'appetite',\n",
       "       'peda_edema', 'anaemia', 'class'],\n",
       "      dtype='object')"
      ]
     },
     "execution_count": 24,
     "metadata": {},
     "output_type": "execute_result"
    }
   ],
   "source": [
    "df.columns"
   ]
  },
  {
   "cell_type": "code",
   "execution_count": 33,
   "id": "f86b9d69-7600-4a10-9ca3-37bfc001ccfd",
   "metadata": {},
   "outputs": [],
   "source": [
    " df['diabetes_mellitus'] =df['diabetes_mellitus'].replace(to_replace = {' yes': 'yes', '\\tno' : 'yes', '\\tyes' : 'yes'})"
   ]
  },
  {
   "cell_type": "code",
   "execution_count": 34,
   "id": "6dd737a9-1e37-4245-a348-a0200387b330",
   "metadata": {},
   "outputs": [
    {
     "data": {
      "text/plain": [
       "array(['yes', 'no', nan], dtype=object)"
      ]
     },
     "execution_count": 34,
     "metadata": {},
     "output_type": "execute_result"
    }
   ],
   "source": [
    "df['diabetes_mellitus'].unique()\n"
   ]
  }
 ],
 "metadata": {
  "kernelspec": {
   "display_name": "Python 3 (ipykernel)",
   "language": "python",
   "name": "python3"
  },
  "language_info": {
   "codemirror_mode": {
    "name": "ipython",
    "version": 3
   },
   "file_extension": ".py",
   "mimetype": "text/x-python",
   "name": "python",
   "nbconvert_exporter": "python",
   "pygments_lexer": "ipython3",
   "version": "3.11.3"
  }
 },
 "nbformat": 4,
 "nbformat_minor": 5
}
